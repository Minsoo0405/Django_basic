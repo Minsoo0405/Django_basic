{
  "nbformat": 4,
  "nbformat_minor": 0,
  "metadata": {
    "colab": {
      "provenance": []
    },
    "kernelspec": {
      "name": "python3",
      "display_name": "Python 3"
    },
    "language_info": {
      "name": "python"
    }
  },
  "cells": [
    {
      "cell_type": "markdown",
      "source": [
        "# Requests"
      ],
      "metadata": {
        "id": "ExOHbkuJDXIH"
      }
    },
    {
      "cell_type": "code",
      "execution_count": 1,
      "metadata": {
        "id": "_Q40mQXyDQ9W"
      },
      "outputs": [],
      "source": [
        "# request 불러오기\n",
        "import requests"
      ]
    },
    {
      "cell_type": "code",
      "source": [
        "# headers에 'User-Agent' 값 넣기\n",
        "headers = {'User-Agent': \"Mozilla/5.0 (Macintosh; Intel Mac OS X 10_15_7) AppleWebKit/537.36 (KHTML, like Gecko) Chrome/112.0.0.0 Safari/537.36\"}\n",
        "\n",
        "# url에 주소 넣기\n",
        "url = \"https://www.transfermarkt.com/\"\n",
        "\n",
        "# requests.get()으로 요청하기\n",
        "r = requests.get(url, headers=headers)\n",
        "\n",
        "# status_code 응답 확인하기\n",
        "r.status_code"
      ],
      "metadata": {
        "colab": {
          "base_uri": "https://localhost:8080/"
        },
        "id": "nEfwcGegDduQ",
        "outputId": "de7c48be-cdf3-4942-b778-c2d132378e40"
      },
      "execution_count": 2,
      "outputs": [
        {
          "output_type": "execute_result",
          "data": {
            "text/plain": [
              "200"
            ]
          },
          "metadata": {},
          "execution_count": 2
        }
      ]
    },
    {
      "cell_type": "markdown",
      "source": [
        "# BeautifulSoup Quick Start 실습"
      ],
      "metadata": {
        "id": "LI2fk-rVDhMW"
      }
    },
    {
      "cell_type": "code",
      "source": [
        "from bs4 import BeautifulSoup\n",
        "soup = BeautifulSoup(html_doc, 'html.parser')"
      ],
      "metadata": {
        "id": "v0UX7wI4Dkgv"
      },
      "execution_count": null,
      "outputs": []
    },
    {
      "cell_type": "code",
      "source": [
        "# p 태크 정보 가져오기 (처음 나오는 것 한 개)\n",
        "soup.p"
      ],
      "metadata": {
        "colab": {
          "base_uri": "https://localhost:8080/",
          "height": 222
        },
        "id": "nHueNooQD3R5",
        "outputId": "ec99ca3b-9802-48c6-a3a2-1ea19b5c34fe"
      },
      "execution_count": 3,
      "outputs": [
        {
          "output_type": "error",
          "ename": "NameError",
          "evalue": "ignored",
          "traceback": [
            "\u001b[0;31m---------------------------------------------------------------------------\u001b[0m",
            "\u001b[0;31mNameError\u001b[0m                                 Traceback (most recent call last)",
            "\u001b[0;32m<ipython-input-3-c12c312fbc58>\u001b[0m in \u001b[0;36m<cell line: 2>\u001b[0;34m()\u001b[0m\n\u001b[1;32m      1\u001b[0m \u001b[0;31m# p 태크 정보 가져오기 (처음 나오는 것 한 개)\u001b[0m\u001b[0;34m\u001b[0m\u001b[0;34m\u001b[0m\u001b[0m\n\u001b[0;32m----> 2\u001b[0;31m \u001b[0msoup\u001b[0m\u001b[0;34m.\u001b[0m\u001b[0mp\u001b[0m\u001b[0;34m\u001b[0m\u001b[0;34m\u001b[0m\u001b[0m\n\u001b[0m",
            "\u001b[0;31mNameError\u001b[0m: name 'soup' is not defined"
          ]
        }
      ]
    },
    {
      "cell_type": "code",
      "source": [
        "soup.find['p']"
      ],
      "metadata": {
        "colab": {
          "base_uri": "https://localhost:8080/",
          "height": 204
        },
        "id": "H2PtqdCKD_As",
        "outputId": "c06c1e47-31be-4750-f470-db0a4616842d"
      },
      "execution_count": 4,
      "outputs": [
        {
          "output_type": "error",
          "ename": "NameError",
          "evalue": "ignored",
          "traceback": [
            "\u001b[0;31m---------------------------------------------------------------------------\u001b[0m",
            "\u001b[0;31mNameError\u001b[0m                                 Traceback (most recent call last)",
            "\u001b[0;32m<ipython-input-4-bdc27304b1a5>\u001b[0m in \u001b[0;36m<cell line: 1>\u001b[0;34m()\u001b[0m\n\u001b[0;32m----> 1\u001b[0;31m \u001b[0msoup\u001b[0m\u001b[0;34m.\u001b[0m\u001b[0mfind\u001b[0m\u001b[0;34m[\u001b[0m\u001b[0;34m'p'\u001b[0m\u001b[0;34m]\u001b[0m\u001b[0;34m\u001b[0m\u001b[0;34m\u001b[0m\u001b[0m\n\u001b[0m",
            "\u001b[0;31mNameError\u001b[0m: name 'soup' is not defined"
          ]
        }
      ]
    },
    {
      "cell_type": "code",
      "source": [
        "# a 태그에 있는 'href' 속성값 가져오기 (처음 나오는 것 한 개)\n",
        "soup.find('a')['href']\n",
        "soup.a['href']"
      ],
      "metadata": {
        "id": "-AElSJUJEEpj"
      },
      "execution_count": null,
      "outputs": []
    },
    {
      "cell_type": "code",
      "source": [
        "# a 태그에 있는 텍스트 가져오기(처음 나오는 것 한 개)\n",
        "soup.find('a').text"
      ],
      "metadata": {
        "id": "F1EkX8ouERB_"
      },
      "execution_count": null,
      "outputs": []
    },
    {
      "cell_type": "code",
      "source": [
        "# a 태그에 있는 요소들 모두 가져오기\n",
        "soup.find_all('a')"
      ],
      "metadata": {
        "id": "ABP7kGlTEZH1"
      },
      "execution_count": null,
      "outputs": []
    },
    {
      "cell_type": "code",
      "source": [
        "# 두번째 a 태그에 있는 정보 가져오기\n",
        "soup.find_all('a')[1]"
      ],
      "metadata": {
        "id": "broqpKL3EjJs"
      },
      "execution_count": null,
      "outputs": []
    },
    {
      "cell_type": "code",
      "source": [
        "# a 태그에 있는 'href' 속성값 모두 가져오기\n",
        "a_list = soup.find_all('a')\n",
        "for i in a_list:\n",
        "  print(i['href'])"
      ],
      "metadata": {
        "id": "4AlR-SFlEtPi"
      },
      "execution_count": null,
      "outputs": []
    },
    {
      "cell_type": "code",
      "source": [
        "# a 태그에 있는 텍스트 모두 가져오기\n",
        "a_list = soup.find_all('a')\n",
        "for i in a_list:\n",
        "  print(i.text)"
      ],
      "metadata": {
        "id": "-C4J2-mmE34S"
      },
      "execution_count": null,
      "outputs": []
    },
    {
      "cell_type": "code",
      "source": [
        "# 태그와 속성값을 같이 넣어 찾아오기\n",
        "# a 태그이면서 class가 sister인 값 모두 찾아오기\n",
        "soup.find_all('a', class_='sister')\n",
        "soup.find_all('a',{'class':'sister'})"
      ],
      "metadata": {
        "id": "yYCzYZPoFROw"
      },
      "execution_count": null,
      "outputs": []
    },
    {
      "cell_type": "code",
      "source": [
        "# a 태그이면서 id가 link3인 요소들 모두 찾기\n",
        "soup.find_all('a', id='link3')"
      ],
      "metadata": {
        "id": "qnek3pv4FkuJ"
      },
      "execution_count": null,
      "outputs": []
    },
    {
      "cell_type": "code",
      "source": [
        "soup.find_all(\"a\", {'id':'link3'})"
      ],
      "metadata": {
        "id": "ZFXB2Z49F4PS"
      },
      "execution_count": null,
      "outputs": []
    }
  ]
}