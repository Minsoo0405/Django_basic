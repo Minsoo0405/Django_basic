{
  "nbformat": 4,
  "nbformat_minor": 0,
  "metadata": {
    "colab": {
      "provenance": []
    },
    "kernelspec": {
      "name": "python3",
      "display_name": "Python 3"
    },
    "language_info": {
      "name": "python"
    }
  },
  "cells": [
    {
      "cell_type": "markdown",
      "source": [
        "# Requests"
      ],
      "metadata": {
        "id": "ExOHbkuJDXIH"
      }
    },
    {
      "cell_type": "code",
      "execution_count": 2,
      "metadata": {
        "id": "_Q40mQXyDQ9W"
      },
      "outputs": [],
      "source": [
        "# request 불러오기\n",
        "import requests"
      ]
    },
    {
      "cell_type": "code",
      "source": [
        "# headers에 'User-Agent' 값 넣기\n",
        "headers = {'User-Agent': \"Mozilla/5.0 (Macintosh; Intel Mac OS X 10_15_7) AppleWebKit/537.36 (KHTML, like Gecko) Chrome/112.0.0.0 Safari/537.36\"}\n",
        "\n",
        "# url에 주소 넣기\n",
        "url = \"https://www.transfermarkt.com/\"\n",
        "\n",
        "# requests.get()으로 요청하기\n",
        "r = requests.get(url, headers=headers)\n",
        "\n",
        "# status_code 응답 확인하기\n",
        "r.status_code"
      ],
      "metadata": {
        "colab": {
          "base_uri": "https://localhost:8080/"
        },
        "id": "nEfwcGegDduQ",
        "outputId": "9dd2ab3e-c53b-416a-b0c5-afab25cf26b3"
      },
      "execution_count": 3,
      "outputs": [
        {
          "output_type": "execute_result",
          "data": {
            "text/plain": [
              "200"
            ]
          },
          "metadata": {},
          "execution_count": 3
        }
      ]
    },
    {
      "cell_type": "markdown",
      "source": [
        "# BeautifulSoup Quick Start 실습"
      ],
      "metadata": {
        "id": "LI2fk-rVDhMW"
      }
    },
    {
      "cell_type": "code",
      "source": [
        "html_doc = html_doc = \"\"\"<html><head><title>The Dormouse's story</title></head>\n",
        "<body>\n",
        "<p class=\"title\"><b>The Dormouse's story</b></p>\n",
        "\n",
        "<p class=\"story\">Once upon a time there were three little sisters; and their names were\n",
        "<a href=\"http://example.com/elsie\" class=\"sister\" id=\"link1\">Elsie</a>,\n",
        "<a href=\"http://example.com/lacie\" class=\"sister\" id=\"link2\">Lacie</a> and\n",
        "<a href=\"http://example.com/tillie\" class=\"sister\" id=\"link3\">Tillie</a>;\n",
        "and they lived at the bottom of a well.</p>\n",
        "\n",
        "<p class=\"story\">...</p>\"\"\""
      ],
      "metadata": {
        "id": "12jlRHldGkYx"
      },
      "execution_count": 4,
      "outputs": []
    },
    {
      "cell_type": "code",
      "source": [
        "from bs4 import BeautifulSoup\n",
        "soup = BeautifulSoup(html_doc, 'html.parser')"
      ],
      "metadata": {
        "id": "v0UX7wI4Dkgv"
      },
      "execution_count": 5,
      "outputs": []
    },
    {
      "cell_type": "code",
      "source": [
        "# p 태크 정보 가져오기 (처음 나오는 것 한 개)\n",
        "soup.p"
      ],
      "metadata": {
        "colab": {
          "base_uri": "https://localhost:8080/"
        },
        "id": "nHueNooQD3R5",
        "outputId": "928efc40-3572-4fc7-a7d6-8dc4740b6c3e"
      },
      "execution_count": 6,
      "outputs": [
        {
          "output_type": "execute_result",
          "data": {
            "text/plain": [
              "<p class=\"title\"><b>The Dormouse's story</b></p>"
            ]
          },
          "metadata": {},
          "execution_count": 6
        }
      ]
    },
    {
      "cell_type": "code",
      "source": [
        "soup.find('p')"
      ],
      "metadata": {
        "colab": {
          "base_uri": "https://localhost:8080/"
        },
        "id": "H2PtqdCKD_As",
        "outputId": "b137c4cc-ff2e-4768-dd8f-91706ee845af"
      },
      "execution_count": 8,
      "outputs": [
        {
          "output_type": "execute_result",
          "data": {
            "text/plain": [
              "<p class=\"title\"><b>The Dormouse's story</b></p>"
            ]
          },
          "metadata": {},
          "execution_count": 8
        }
      ]
    },
    {
      "cell_type": "code",
      "source": [
        "# a 태그에 있는 'href' 속성값 가져오기 (처음 나오는 것 한 개)\n",
        "soup.find('a')['href']"
      ],
      "metadata": {
        "id": "-AElSJUJEEpj",
        "colab": {
          "base_uri": "https://localhost:8080/",
          "height": 35
        },
        "outputId": "f1d2808d-b147-4663-dcb2-0e456787494b"
      },
      "execution_count": 10,
      "outputs": [
        {
          "output_type": "execute_result",
          "data": {
            "text/plain": [
              "'http://example.com/elsie'"
            ],
            "application/vnd.google.colaboratory.intrinsic+json": {
              "type": "string"
            }
          },
          "metadata": {},
          "execution_count": 10
        }
      ]
    },
    {
      "cell_type": "code",
      "source": [
        "soup.a['href']"
      ],
      "metadata": {
        "colab": {
          "base_uri": "https://localhost:8080/",
          "height": 35
        },
        "id": "2G7oLzfEHLuv",
        "outputId": "75fcf18f-69f8-4147-bcf1-6aeace35a593"
      },
      "execution_count": 11,
      "outputs": [
        {
          "output_type": "execute_result",
          "data": {
            "text/plain": [
              "'http://example.com/elsie'"
            ],
            "application/vnd.google.colaboratory.intrinsic+json": {
              "type": "string"
            }
          },
          "metadata": {},
          "execution_count": 11
        }
      ]
    },
    {
      "cell_type": "code",
      "source": [
        "# a 태그에 있는 텍스트 가져오기(처음 나오는 것 한 개)\n",
        "soup.find('a').text"
      ],
      "metadata": {
        "id": "F1EkX8ouERB_",
        "colab": {
          "base_uri": "https://localhost:8080/",
          "height": 35
        },
        "outputId": "cf9f5b19-6ca4-4078-dd4e-39d5c7a3bf11"
      },
      "execution_count": 12,
      "outputs": [
        {
          "output_type": "execute_result",
          "data": {
            "text/plain": [
              "'Elsie'"
            ],
            "application/vnd.google.colaboratory.intrinsic+json": {
              "type": "string"
            }
          },
          "metadata": {},
          "execution_count": 12
        }
      ]
    },
    {
      "cell_type": "code",
      "source": [
        "# a 태그에 있는 요소들 모두 가져오기\n",
        "soup.find_all('a')"
      ],
      "metadata": {
        "id": "ABP7kGlTEZH1",
        "colab": {
          "base_uri": "https://localhost:8080/"
        },
        "outputId": "20041276-3e2a-4b61-c2fc-d9a105f20645"
      },
      "execution_count": 13,
      "outputs": [
        {
          "output_type": "execute_result",
          "data": {
            "text/plain": [
              "[<a class=\"sister\" href=\"http://example.com/elsie\" id=\"link1\">Elsie</a>,\n",
              " <a class=\"sister\" href=\"http://example.com/lacie\" id=\"link2\">Lacie</a>,\n",
              " <a class=\"sister\" href=\"http://example.com/tillie\" id=\"link3\">Tillie</a>]"
            ]
          },
          "metadata": {},
          "execution_count": 13
        }
      ]
    },
    {
      "cell_type": "code",
      "source": [
        "# 두번째 a 태그에 있는 정보 가져오기\n",
        "soup.find_all('a')[1]"
      ],
      "metadata": {
        "id": "broqpKL3EjJs",
        "colab": {
          "base_uri": "https://localhost:8080/"
        },
        "outputId": "6684e09c-1d8b-4bf4-d505-f6c3a1b82685"
      },
      "execution_count": 14,
      "outputs": [
        {
          "output_type": "execute_result",
          "data": {
            "text/plain": [
              "<a class=\"sister\" href=\"http://example.com/lacie\" id=\"link2\">Lacie</a>"
            ]
          },
          "metadata": {},
          "execution_count": 14
        }
      ]
    },
    {
      "cell_type": "code",
      "source": [
        "# a 태그에 있는 'href' 속성값 모두 가져오기\n",
        "a_list = soup.find_all('a')\n",
        "for i in a_list:\n",
        "  print(i['href'])"
      ],
      "metadata": {
        "id": "4AlR-SFlEtPi",
        "colab": {
          "base_uri": "https://localhost:8080/"
        },
        "outputId": "2f82940f-fab9-4aff-9da7-a16b15324e5c"
      },
      "execution_count": 15,
      "outputs": [
        {
          "output_type": "stream",
          "name": "stdout",
          "text": [
            "http://example.com/elsie\n",
            "http://example.com/lacie\n",
            "http://example.com/tillie\n"
          ]
        }
      ]
    },
    {
      "cell_type": "code",
      "source": [
        "# a 태그에 있는 텍스트 모두 가져오기\n",
        "a_list = soup.find_all('a')\n",
        "for i in a_list:\n",
        "  print(i.text)"
      ],
      "metadata": {
        "id": "-C4J2-mmE34S",
        "colab": {
          "base_uri": "https://localhost:8080/"
        },
        "outputId": "4f9fb902-315a-495f-ff01-97f388bcc5b2"
      },
      "execution_count": 16,
      "outputs": [
        {
          "output_type": "stream",
          "name": "stdout",
          "text": [
            "Elsie\n",
            "Lacie\n",
            "Tillie\n"
          ]
        }
      ]
    },
    {
      "cell_type": "code",
      "source": [
        "# 태그와 속성값을 같이 넣어 찾아오기\n",
        "# a 태그이면서 class가 sister인 값 모두 찾아오기\n",
        "soup.find_all('a', class_='sister')"
      ],
      "metadata": {
        "id": "yYCzYZPoFROw",
        "colab": {
          "base_uri": "https://localhost:8080/"
        },
        "outputId": "9e56fd04-4556-483e-a2f9-9c5813462428"
      },
      "execution_count": 19,
      "outputs": [
        {
          "output_type": "execute_result",
          "data": {
            "text/plain": [
              "[<a class=\"sister\" href=\"http://example.com/elsie\" id=\"link1\">Elsie</a>,\n",
              " <a class=\"sister\" href=\"http://example.com/lacie\" id=\"link2\">Lacie</a>,\n",
              " <a class=\"sister\" href=\"http://example.com/tillie\" id=\"link3\">Tillie</a>]"
            ]
          },
          "metadata": {},
          "execution_count": 19
        }
      ]
    },
    {
      "cell_type": "code",
      "source": [
        "soup.find_all('a',{'class':'sister'})"
      ],
      "metadata": {
        "colab": {
          "base_uri": "https://localhost:8080/"
        },
        "id": "PpsEa0PIHU48",
        "outputId": "fd4e85ff-5579-464d-a935-fa43bce0aec9"
      },
      "execution_count": 20,
      "outputs": [
        {
          "output_type": "execute_result",
          "data": {
            "text/plain": [
              "[<a class=\"sister\" href=\"http://example.com/elsie\" id=\"link1\">Elsie</a>,\n",
              " <a class=\"sister\" href=\"http://example.com/lacie\" id=\"link2\">Lacie</a>,\n",
              " <a class=\"sister\" href=\"http://example.com/tillie\" id=\"link3\">Tillie</a>]"
            ]
          },
          "metadata": {},
          "execution_count": 20
        }
      ]
    },
    {
      "cell_type": "code",
      "source": [
        "# a 태그이면서 id가 link3인 요소들 모두 찾기\n",
        "soup.find_all('a', id='link3')"
      ],
      "metadata": {
        "id": "qnek3pv4FkuJ",
        "colab": {
          "base_uri": "https://localhost:8080/"
        },
        "outputId": "7c047aeb-f7df-4b5a-bfae-703f75263b0c"
      },
      "execution_count": 21,
      "outputs": [
        {
          "output_type": "execute_result",
          "data": {
            "text/plain": [
              "[<a class=\"sister\" href=\"http://example.com/tillie\" id=\"link3\">Tillie</a>]"
            ]
          },
          "metadata": {},
          "execution_count": 21
        }
      ]
    },
    {
      "cell_type": "code",
      "source": [
        "soup.find_all(\"a\", {'id':'link3'})"
      ],
      "metadata": {
        "id": "ZFXB2Z49F4PS",
        "colab": {
          "base_uri": "https://localhost:8080/"
        },
        "outputId": "e1ca7614-76f9-4e03-f75e-e060401e898e"
      },
      "execution_count": 22,
      "outputs": [
        {
          "output_type": "execute_result",
          "data": {
            "text/plain": [
              "[<a class=\"sister\" href=\"http://example.com/tillie\" id=\"link3\">Tillie</a>]"
            ]
          },
          "metadata": {},
          "execution_count": 22
        }
      ]
    },
    {
      "cell_type": "markdown",
      "source": [
        "# Transfermarkt 크롤링"
      ],
      "metadata": {
        "id": "_FZqpY1mHiA2"
      }
    },
    {
      "cell_type": "code",
      "source": [
        "# 필요한 라이브러리 불러오기\n",
        "import requests\n",
        "from bs4 import BeautifulSoup\n",
        "import pandas as pd\n",
        "import time"
      ],
      "metadata": {
        "id": "MRuktZTiHhqi"
      },
      "execution_count": 23,
      "outputs": []
    },
    {
      "cell_type": "code",
      "source": [
        "# requests.get()으로 url정보 요청하기\n",
        "hearders = {'User-Agent': \"Mozilla/5.0 (Macintosh; Intel Mac OS X 10_15_7) AppleWebKit/537.36 (KHTML, like Gecko) Chrome/112.0.0.0 Safari/537.36\"}\n",
        "\n",
        "url = \"https://www.transfermarkt.com/premier-league/marktwerte/wettbewerb/GB1/pos//detailpos/0/altersklasse/alle/plus/1\"\n",
        "\n",
        "r = requests.get(url, headers=headers)\n",
        "r.status_code"
      ],
      "metadata": {
        "colab": {
          "base_uri": "https://localhost:8080/"
        },
        "id": "KNJoQr1vHvkW",
        "outputId": "28410b39-6c90-4025-8e64-da06c035cd9d"
      },
      "execution_count": 232,
      "outputs": [
        {
          "output_type": "execute_result",
          "data": {
            "text/plain": [
              "200"
            ]
          },
          "metadata": {},
          "execution_count": 232
        }
      ]
    },
    {
      "cell_type": "code",
      "source": [
        "# BeautifulSoup()으로 웹페이지 분석 준비하기\n",
        "soup = BeautifulSoup(r.text, 'html.parser') # r.content 대신 r.text도 가능\n",
        "print(soup)"
      ],
      "metadata": {
        "id": "NYJdiQ7GI4Aq"
      },
      "execution_count": null,
      "outputs": []
    },
    {
      "cell_type": "code",
      "source": [
        "# 선수들의 정보가 담긴 태그와 클래스 찾기\n",
        "player_info = soup.find_all('tr', class_=['odd', 'even'])"
      ],
      "metadata": {
        "id": "NoQeAV_fJJvB"
      },
      "execution_count": 234,
      "outputs": []
    },
    {
      "cell_type": "code",
      "source": [
        "# 첫번째 요소 확인하기\n",
        "print(player_info[0:5])\n",
        "\n",
        "# 현재 개수 확인하기\n",
        "print(len(player_info))"
      ],
      "metadata": {
        "id": "MoUDtwRQKN4U"
      },
      "execution_count": null,
      "outputs": []
    },
    {
      "cell_type": "code",
      "source": [
        "# 7개 정보를 담을 빈 리스트 만들기(number, name, position, age, nation, team, value)\n",
        "\n",
        "number = []\n",
        "name = []\n",
        "position = []\n",
        "age = []\n",
        "nation = []\n",
        "team = []\n",
        "value = []"
      ],
      "metadata": {
        "id": "cw0BiZwrKbnX"
      },
      "execution_count": 236,
      "outputs": []
    },
    {
      "cell_type": "code",
      "source": [
        "# player_info1에서 'td'태그만 모두 찾기\n",
        "for info in player_info:\n",
        "  player = info.find_all('td')\n",
        "\n",
        "# print(player[0])\n",
        "\n",
        "# 해당 정보를 찾아서 각 리스트에 .append로 추가하기\n",
        "  number.append(player[0].text)\n",
        "  name.append(player[3].text.strip())\n",
        "  position.append(player[4].text)\n",
        "  nation.append(player[5].img['alt'])\n",
        "  age.append(player[6].text)\n",
        "  team.append(player[7].img['alt'])\n",
        "  value.append(player[8].text.strip())\n",
        "\n",
        "#time.sleep(1) "
      ],
      "metadata": {
        "id": "BaMqBmgVK0Gh"
      },
      "execution_count": 237,
      "outputs": []
    },
    {
      "cell_type": "code",
      "source": [
        "# pd.DataFrame()으로 저장하기\n",
        "df = pd.DataFrame(\n",
        "    {\"number\":number,\n",
        "     \"name\":name,\n",
        "     \"position\":position,\n",
        "     \"age\":age,\n",
        "     \"nation\":nation,\n",
        "     \"team\":team,\n",
        "     \"value\":value}\n",
        ")\n",
        "\n",
        "df"
      ],
      "metadata": {
        "colab": {
          "base_uri": "https://localhost:8080/",
          "height": 1000
        },
        "id": "T9vkUBhja6aN",
        "outputId": "95e729bd-43eb-4843-b6e7-112d05098679"
      },
      "execution_count": 239,
      "outputs": [
        {
          "output_type": "execute_result",
          "data": {
            "text/plain": [
              "   number                    name            position age       nation  \\\n",
              "0       1          Erling Haaland      Centre-Forward  22       Norway   \n",
              "1       2              Phil Foden         Left Winger  22      England   \n",
              "2       3             Bukayo Saka        Right Winger  21      England   \n",
              "3       4              Harry Kane      Centre-Forward  29      England   \n",
              "4       5          Enzo Fernández  Defensive Midfield  22    Argentina   \n",
              "5       6             Declan Rice  Defensive Midfield  24      England   \n",
              "6       7                   Rodri  Defensive Midfield  26        Spain   \n",
              "7       8         Martin Ødegaard  Attacking Midfield  24       Norway   \n",
              "8       9         Kevin De Bruyne  Attacking Midfield  31      Belgium   \n",
              "9      10          Bernardo Silva  Attacking Midfield  28     Portugal   \n",
              "10     11         Marcus Rashford         Left Winger  25      England   \n",
              "11     12           Gabriel Jesus      Centre-Forward  26       Brazil   \n",
              "12     13               Luis Díaz         Left Winger  26     Colombia   \n",
              "13     14         Bruno Fernandes  Attacking Midfield  28     Portugal   \n",
              "14     15              Rúben Dias         Centre-Back  25     Portugal   \n",
              "15     16           Mohamed Salah        Right Winger  30        Egypt   \n",
              "16     17           Jack Grealish         Left Winger  27      England   \n",
              "17     18                  Antony        Right Winger  23       Brazil   \n",
              "18     19            Darwin Núñez      Centre-Forward  23      Uruguay   \n",
              "19     20      Gabriel Martinelli         Left Winger  21       Brazil   \n",
              "20     21             Reece James          Right-Back  23      England   \n",
              "21     22           Wesley Fofana         Centre-Back  22       France   \n",
              "22     23             Mason Mount  Attacking Midfield  24      England   \n",
              "23     24  Trent Alexander-Arnold          Right-Back  24      England   \n",
              "24     25              Cody Gakpo         Left Winger  23  Netherlands   \n",
              "\n",
              "                 team     value  \n",
              "0     Manchester City  €170.00m  \n",
              "1     Manchester City  €110.00m  \n",
              "2          Arsenal FC  €110.00m  \n",
              "3   Tottenham Hotspur  €150.00m  \n",
              "4          Chelsea FC   €85.00m  \n",
              "5     West Ham United   €80.00m  \n",
              "6     Manchester City   €80.00m  \n",
              "7          Arsenal FC   €80.00m  \n",
              "8     Manchester City  €150.00m  \n",
              "9     Manchester City  €100.00m  \n",
              "10  Manchester United   €85.00m  \n",
              "11         Arsenal FC   €80.00m  \n",
              "12       Liverpool FC   €75.00m  \n",
              "13  Manchester United   €90.00m  \n",
              "14    Manchester City   €75.00m  \n",
              "15       Liverpool FC  €150.00m  \n",
              "16    Manchester City  €100.00m  \n",
              "17  Manchester United   €75.00m  \n",
              "18       Liverpool FC   €70.00m  \n",
              "19         Arsenal FC   €70.00m  \n",
              "20         Chelsea FC   €70.00m  \n",
              "21         Chelsea FC   €65.00m  \n",
              "22         Chelsea FC   €75.00m  \n",
              "23       Liverpool FC  €110.00m  \n",
              "24       Liverpool FC   €60.00m  "
            ],
            "text/html": [
              "\n",
              "  <div id=\"df-0f98bdcf-c55d-4e21-b197-0bf865669e31\">\n",
              "    <div class=\"colab-df-container\">\n",
              "      <div>\n",
              "<style scoped>\n",
              "    .dataframe tbody tr th:only-of-type {\n",
              "        vertical-align: middle;\n",
              "    }\n",
              "\n",
              "    .dataframe tbody tr th {\n",
              "        vertical-align: top;\n",
              "    }\n",
              "\n",
              "    .dataframe thead th {\n",
              "        text-align: right;\n",
              "    }\n",
              "</style>\n",
              "<table border=\"1\" class=\"dataframe\">\n",
              "  <thead>\n",
              "    <tr style=\"text-align: right;\">\n",
              "      <th></th>\n",
              "      <th>number</th>\n",
              "      <th>name</th>\n",
              "      <th>position</th>\n",
              "      <th>age</th>\n",
              "      <th>nation</th>\n",
              "      <th>team</th>\n",
              "      <th>value</th>\n",
              "    </tr>\n",
              "  </thead>\n",
              "  <tbody>\n",
              "    <tr>\n",
              "      <th>0</th>\n",
              "      <td>1</td>\n",
              "      <td>Erling Haaland</td>\n",
              "      <td>Centre-Forward</td>\n",
              "      <td>22</td>\n",
              "      <td>Norway</td>\n",
              "      <td>Manchester City</td>\n",
              "      <td>€170.00m</td>\n",
              "    </tr>\n",
              "    <tr>\n",
              "      <th>1</th>\n",
              "      <td>2</td>\n",
              "      <td>Phil Foden</td>\n",
              "      <td>Left Winger</td>\n",
              "      <td>22</td>\n",
              "      <td>England</td>\n",
              "      <td>Manchester City</td>\n",
              "      <td>€110.00m</td>\n",
              "    </tr>\n",
              "    <tr>\n",
              "      <th>2</th>\n",
              "      <td>3</td>\n",
              "      <td>Bukayo Saka</td>\n",
              "      <td>Right Winger</td>\n",
              "      <td>21</td>\n",
              "      <td>England</td>\n",
              "      <td>Arsenal FC</td>\n",
              "      <td>€110.00m</td>\n",
              "    </tr>\n",
              "    <tr>\n",
              "      <th>3</th>\n",
              "      <td>4</td>\n",
              "      <td>Harry Kane</td>\n",
              "      <td>Centre-Forward</td>\n",
              "      <td>29</td>\n",
              "      <td>England</td>\n",
              "      <td>Tottenham Hotspur</td>\n",
              "      <td>€150.00m</td>\n",
              "    </tr>\n",
              "    <tr>\n",
              "      <th>4</th>\n",
              "      <td>5</td>\n",
              "      <td>Enzo Fernández</td>\n",
              "      <td>Defensive Midfield</td>\n",
              "      <td>22</td>\n",
              "      <td>Argentina</td>\n",
              "      <td>Chelsea FC</td>\n",
              "      <td>€85.00m</td>\n",
              "    </tr>\n",
              "    <tr>\n",
              "      <th>5</th>\n",
              "      <td>6</td>\n",
              "      <td>Declan Rice</td>\n",
              "      <td>Defensive Midfield</td>\n",
              "      <td>24</td>\n",
              "      <td>England</td>\n",
              "      <td>West Ham United</td>\n",
              "      <td>€80.00m</td>\n",
              "    </tr>\n",
              "    <tr>\n",
              "      <th>6</th>\n",
              "      <td>7</td>\n",
              "      <td>Rodri</td>\n",
              "      <td>Defensive Midfield</td>\n",
              "      <td>26</td>\n",
              "      <td>Spain</td>\n",
              "      <td>Manchester City</td>\n",
              "      <td>€80.00m</td>\n",
              "    </tr>\n",
              "    <tr>\n",
              "      <th>7</th>\n",
              "      <td>8</td>\n",
              "      <td>Martin Ødegaard</td>\n",
              "      <td>Attacking Midfield</td>\n",
              "      <td>24</td>\n",
              "      <td>Norway</td>\n",
              "      <td>Arsenal FC</td>\n",
              "      <td>€80.00m</td>\n",
              "    </tr>\n",
              "    <tr>\n",
              "      <th>8</th>\n",
              "      <td>9</td>\n",
              "      <td>Kevin De Bruyne</td>\n",
              "      <td>Attacking Midfield</td>\n",
              "      <td>31</td>\n",
              "      <td>Belgium</td>\n",
              "      <td>Manchester City</td>\n",
              "      <td>€150.00m</td>\n",
              "    </tr>\n",
              "    <tr>\n",
              "      <th>9</th>\n",
              "      <td>10</td>\n",
              "      <td>Bernardo Silva</td>\n",
              "      <td>Attacking Midfield</td>\n",
              "      <td>28</td>\n",
              "      <td>Portugal</td>\n",
              "      <td>Manchester City</td>\n",
              "      <td>€100.00m</td>\n",
              "    </tr>\n",
              "    <tr>\n",
              "      <th>10</th>\n",
              "      <td>11</td>\n",
              "      <td>Marcus Rashford</td>\n",
              "      <td>Left Winger</td>\n",
              "      <td>25</td>\n",
              "      <td>England</td>\n",
              "      <td>Manchester United</td>\n",
              "      <td>€85.00m</td>\n",
              "    </tr>\n",
              "    <tr>\n",
              "      <th>11</th>\n",
              "      <td>12</td>\n",
              "      <td>Gabriel Jesus</td>\n",
              "      <td>Centre-Forward</td>\n",
              "      <td>26</td>\n",
              "      <td>Brazil</td>\n",
              "      <td>Arsenal FC</td>\n",
              "      <td>€80.00m</td>\n",
              "    </tr>\n",
              "    <tr>\n",
              "      <th>12</th>\n",
              "      <td>13</td>\n",
              "      <td>Luis Díaz</td>\n",
              "      <td>Left Winger</td>\n",
              "      <td>26</td>\n",
              "      <td>Colombia</td>\n",
              "      <td>Liverpool FC</td>\n",
              "      <td>€75.00m</td>\n",
              "    </tr>\n",
              "    <tr>\n",
              "      <th>13</th>\n",
              "      <td>14</td>\n",
              "      <td>Bruno Fernandes</td>\n",
              "      <td>Attacking Midfield</td>\n",
              "      <td>28</td>\n",
              "      <td>Portugal</td>\n",
              "      <td>Manchester United</td>\n",
              "      <td>€90.00m</td>\n",
              "    </tr>\n",
              "    <tr>\n",
              "      <th>14</th>\n",
              "      <td>15</td>\n",
              "      <td>Rúben Dias</td>\n",
              "      <td>Centre-Back</td>\n",
              "      <td>25</td>\n",
              "      <td>Portugal</td>\n",
              "      <td>Manchester City</td>\n",
              "      <td>€75.00m</td>\n",
              "    </tr>\n",
              "    <tr>\n",
              "      <th>15</th>\n",
              "      <td>16</td>\n",
              "      <td>Mohamed Salah</td>\n",
              "      <td>Right Winger</td>\n",
              "      <td>30</td>\n",
              "      <td>Egypt</td>\n",
              "      <td>Liverpool FC</td>\n",
              "      <td>€150.00m</td>\n",
              "    </tr>\n",
              "    <tr>\n",
              "      <th>16</th>\n",
              "      <td>17</td>\n",
              "      <td>Jack Grealish</td>\n",
              "      <td>Left Winger</td>\n",
              "      <td>27</td>\n",
              "      <td>England</td>\n",
              "      <td>Manchester City</td>\n",
              "      <td>€100.00m</td>\n",
              "    </tr>\n",
              "    <tr>\n",
              "      <th>17</th>\n",
              "      <td>18</td>\n",
              "      <td>Antony</td>\n",
              "      <td>Right Winger</td>\n",
              "      <td>23</td>\n",
              "      <td>Brazil</td>\n",
              "      <td>Manchester United</td>\n",
              "      <td>€75.00m</td>\n",
              "    </tr>\n",
              "    <tr>\n",
              "      <th>18</th>\n",
              "      <td>19</td>\n",
              "      <td>Darwin Núñez</td>\n",
              "      <td>Centre-Forward</td>\n",
              "      <td>23</td>\n",
              "      <td>Uruguay</td>\n",
              "      <td>Liverpool FC</td>\n",
              "      <td>€70.00m</td>\n",
              "    </tr>\n",
              "    <tr>\n",
              "      <th>19</th>\n",
              "      <td>20</td>\n",
              "      <td>Gabriel Martinelli</td>\n",
              "      <td>Left Winger</td>\n",
              "      <td>21</td>\n",
              "      <td>Brazil</td>\n",
              "      <td>Arsenal FC</td>\n",
              "      <td>€70.00m</td>\n",
              "    </tr>\n",
              "    <tr>\n",
              "      <th>20</th>\n",
              "      <td>21</td>\n",
              "      <td>Reece James</td>\n",
              "      <td>Right-Back</td>\n",
              "      <td>23</td>\n",
              "      <td>England</td>\n",
              "      <td>Chelsea FC</td>\n",
              "      <td>€70.00m</td>\n",
              "    </tr>\n",
              "    <tr>\n",
              "      <th>21</th>\n",
              "      <td>22</td>\n",
              "      <td>Wesley Fofana</td>\n",
              "      <td>Centre-Back</td>\n",
              "      <td>22</td>\n",
              "      <td>France</td>\n",
              "      <td>Chelsea FC</td>\n",
              "      <td>€65.00m</td>\n",
              "    </tr>\n",
              "    <tr>\n",
              "      <th>22</th>\n",
              "      <td>23</td>\n",
              "      <td>Mason Mount</td>\n",
              "      <td>Attacking Midfield</td>\n",
              "      <td>24</td>\n",
              "      <td>England</td>\n",
              "      <td>Chelsea FC</td>\n",
              "      <td>€75.00m</td>\n",
              "    </tr>\n",
              "    <tr>\n",
              "      <th>23</th>\n",
              "      <td>24</td>\n",
              "      <td>Trent Alexander-Arnold</td>\n",
              "      <td>Right-Back</td>\n",
              "      <td>24</td>\n",
              "      <td>England</td>\n",
              "      <td>Liverpool FC</td>\n",
              "      <td>€110.00m</td>\n",
              "    </tr>\n",
              "    <tr>\n",
              "      <th>24</th>\n",
              "      <td>25</td>\n",
              "      <td>Cody Gakpo</td>\n",
              "      <td>Left Winger</td>\n",
              "      <td>23</td>\n",
              "      <td>Netherlands</td>\n",
              "      <td>Liverpool FC</td>\n",
              "      <td>€60.00m</td>\n",
              "    </tr>\n",
              "  </tbody>\n",
              "</table>\n",
              "</div>\n",
              "      <button class=\"colab-df-convert\" onclick=\"convertToInteractive('df-0f98bdcf-c55d-4e21-b197-0bf865669e31')\"\n",
              "              title=\"Convert this dataframe to an interactive table.\"\n",
              "              style=\"display:none;\">\n",
              "        \n",
              "  <svg xmlns=\"http://www.w3.org/2000/svg\" height=\"24px\"viewBox=\"0 0 24 24\"\n",
              "       width=\"24px\">\n",
              "    <path d=\"M0 0h24v24H0V0z\" fill=\"none\"/>\n",
              "    <path d=\"M18.56 5.44l.94 2.06.94-2.06 2.06-.94-2.06-.94-.94-2.06-.94 2.06-2.06.94zm-11 1L8.5 8.5l.94-2.06 2.06-.94-2.06-.94L8.5 2.5l-.94 2.06-2.06.94zm10 10l.94 2.06.94-2.06 2.06-.94-2.06-.94-.94-2.06-.94 2.06-2.06.94z\"/><path d=\"M17.41 7.96l-1.37-1.37c-.4-.4-.92-.59-1.43-.59-.52 0-1.04.2-1.43.59L10.3 9.45l-7.72 7.72c-.78.78-.78 2.05 0 2.83L4 21.41c.39.39.9.59 1.41.59.51 0 1.02-.2 1.41-.59l7.78-7.78 2.81-2.81c.8-.78.8-2.07 0-2.86zM5.41 20L4 18.59l7.72-7.72 1.47 1.35L5.41 20z\"/>\n",
              "  </svg>\n",
              "      </button>\n",
              "      \n",
              "  <style>\n",
              "    .colab-df-container {\n",
              "      display:flex;\n",
              "      flex-wrap:wrap;\n",
              "      gap: 12px;\n",
              "    }\n",
              "\n",
              "    .colab-df-convert {\n",
              "      background-color: #E8F0FE;\n",
              "      border: none;\n",
              "      border-radius: 50%;\n",
              "      cursor: pointer;\n",
              "      display: none;\n",
              "      fill: #1967D2;\n",
              "      height: 32px;\n",
              "      padding: 0 0 0 0;\n",
              "      width: 32px;\n",
              "    }\n",
              "\n",
              "    .colab-df-convert:hover {\n",
              "      background-color: #E2EBFA;\n",
              "      box-shadow: 0px 1px 2px rgba(60, 64, 67, 0.3), 0px 1px 3px 1px rgba(60, 64, 67, 0.15);\n",
              "      fill: #174EA6;\n",
              "    }\n",
              "\n",
              "    [theme=dark] .colab-df-convert {\n",
              "      background-color: #3B4455;\n",
              "      fill: #D2E3FC;\n",
              "    }\n",
              "\n",
              "    [theme=dark] .colab-df-convert:hover {\n",
              "      background-color: #434B5C;\n",
              "      box-shadow: 0px 1px 3px 1px rgba(0, 0, 0, 0.15);\n",
              "      filter: drop-shadow(0px 1px 2px rgba(0, 0, 0, 0.3));\n",
              "      fill: #FFFFFF;\n",
              "    }\n",
              "  </style>\n",
              "\n",
              "      <script>\n",
              "        const buttonEl =\n",
              "          document.querySelector('#df-0f98bdcf-c55d-4e21-b197-0bf865669e31 button.colab-df-convert');\n",
              "        buttonEl.style.display =\n",
              "          google.colab.kernel.accessAllowed ? 'block' : 'none';\n",
              "\n",
              "        async function convertToInteractive(key) {\n",
              "          const element = document.querySelector('#df-0f98bdcf-c55d-4e21-b197-0bf865669e31');\n",
              "          const dataTable =\n",
              "            await google.colab.kernel.invokeFunction('convertToInteractive',\n",
              "                                                     [key], {});\n",
              "          if (!dataTable) return;\n",
              "\n",
              "          const docLinkHtml = 'Like what you see? Visit the ' +\n",
              "            '<a target=\"_blank\" href=https://colab.research.google.com/notebooks/data_table.ipynb>data table notebook</a>'\n",
              "            + ' to learn more about interactive tables.';\n",
              "          element.innerHTML = '';\n",
              "          dataTable['output_type'] = 'display_data';\n",
              "          await google.colab.output.renderOutput(dataTable, element);\n",
              "          const docLink = document.createElement('div');\n",
              "          docLink.innerHTML = docLinkHtml;\n",
              "          element.appendChild(docLink);\n",
              "        }\n",
              "      </script>\n",
              "    </div>\n",
              "  </div>\n",
              "  "
            ]
          },
          "metadata": {},
          "execution_count": 239
        }
      ]
    },
    {
      "cell_type": "code",
      "source": [
        "# df.to_csv()로 csv파일로 저장하기\n",
        "df.to_csv('transfermarkt25.csv', index=False)"
      ],
      "metadata": {
        "id": "mVWNdliMcr6E"
      },
      "execution_count": 240,
      "outputs": []
    },
    {
      "cell_type": "markdown",
      "source": [
        "# 1~2페이지 50명 정보 크롤링"
      ],
      "metadata": {
        "id": "oqA9CeEOdjjO"
      }
    },
    {
      "cell_type": "code",
      "source": [
        "from requests.api import head\n",
        "# url 정보 요청하기\n",
        "headers = {'User-Agent': \"Mozilla/5.0 (Macintosh; Intel Mac OS X 10_15_7) AppleWebKit/537.36 (KHTML, like Gecko) Chrome/112.0.0.0 Safari/537.36\"}\n",
        "\n",
        "# 7개 정보를 담을 빈 리스트 만들기(number, name, position, age, nation, team, value)\n",
        "number = []\n",
        "name = []\n",
        "position = []\n",
        "age = []\n",
        "nation = []\n",
        "team = []\n",
        "value = []\n",
        "\n",
        "# 1~2페이지까지의 url주소 불러오기\n",
        "for i in range(1,3):\n",
        "  url = f\"https://www.transfermarkt.com/premier-league/marktwerte/wettbewerb/GB1/ajax/yw1/pos//detailpos/0/altersklasse/alle/plus/1/page/{i}\"\n",
        "\n",
        "  r = requests.get(url, headers=headers)\n",
        "  r.status_code\n",
        "\n",
        "  # BeautifulSoup()으로 웹페이지 분석 준비하기\n",
        "  soup = BeautifulSoup(r.text, 'html.parser') # r.content 대신 r.text도 가능\n",
        "\n",
        "  # 선수들의 정보가 담긴 태그와 클래스 찾기\n",
        "  player_info = soup.find_all('tr', class_=['odd', 'even'])\n",
        "\n",
        "  # player_info1에서 'td'태그만 모두 찾기\n",
        "  for info in player_info:\n",
        "    player = info.find_all('td')\n",
        "\n",
        "  # 해당 정보를 찾아서 각 리스트에 .append로 추가하기\n",
        "    number.append(player[0].text)\n",
        "    name.append(player[3].text.strip())\n",
        "    position.append(player[4].text)\n",
        "    nation.append(player[5].img['alt'])\n",
        "    age.append(player[6].text)\n",
        "    team.append(player[7].img['alt'])\n",
        "    value.append(player[8].text.strip())\n",
        "\n",
        "  time.sleep(1)\n",
        "\n",
        "# pd.DataFrame()으로 저장하기\n",
        "df = pd.DataFrame(\n",
        "    {\"number\":number,\n",
        "     \"name\":name,\n",
        "     \"position\":position,\n",
        "     \"age\":age,\n",
        "     \"nation\":nation,\n",
        "     \"team\":team,\n",
        "     \"value\":value}\n",
        ")\n",
        "\n",
        "df"
      ],
      "metadata": {
        "colab": {
          "base_uri": "https://localhost:8080/",
          "height": 1000
        },
        "id": "EiJv9NqZdAg-",
        "outputId": "4ca443f5-4f0f-4fed-8dc6-3ba71c2f2064"
      },
      "execution_count": 264,
      "outputs": [
        {
          "output_type": "execute_result",
          "data": {
            "text/plain": [
              "   number                    name            position age        nation  \\\n",
              "0       1          Erling Haaland      Centre-Forward  22        Norway   \n",
              "1       2              Phil Foden         Left Winger  22       England   \n",
              "2       3             Bukayo Saka        Right Winger  21       England   \n",
              "3       4              Harry Kane      Centre-Forward  29       England   \n",
              "4       5          Enzo Fernández  Defensive Midfield  22     Argentina   \n",
              "5       6             Declan Rice  Defensive Midfield  24       England   \n",
              "6       7                   Rodri  Defensive Midfield  26         Spain   \n",
              "7       8         Martin Ødegaard  Attacking Midfield  24        Norway   \n",
              "8       9         Kevin De Bruyne  Attacking Midfield  31       Belgium   \n",
              "9      10          Bernardo Silva  Attacking Midfield  28      Portugal   \n",
              "10     11         Marcus Rashford         Left Winger  25       England   \n",
              "11     12           Gabriel Jesus      Centre-Forward  26        Brazil   \n",
              "12     13               Luis Díaz         Left Winger  26      Colombia   \n",
              "13     14         Bruno Fernandes  Attacking Midfield  28      Portugal   \n",
              "14     15              Rúben Dias         Centre-Back  25      Portugal   \n",
              "15     16           Mohamed Salah        Right Winger  30         Egypt   \n",
              "16     17           Jack Grealish         Left Winger  27       England   \n",
              "17     18                  Antony        Right Winger  23        Brazil   \n",
              "18     19            Darwin Núñez      Centre-Forward  23       Uruguay   \n",
              "19     20      Gabriel Martinelli         Left Winger  21        Brazil   \n",
              "20     21             Reece James          Right-Back  23       England   \n",
              "21     22           Wesley Fofana         Centre-Back  22        France   \n",
              "22     23             Mason Mount  Attacking Midfield  24       England   \n",
              "23     24  Trent Alexander-Arnold          Right-Back  24       England   \n",
              "24     25              Cody Gakpo         Left Winger  23   Netherlands   \n",
              "25     26         Bruno Guimarães  Defensive Midfield  25        Brazil   \n",
              "26     27             Kai Havertz  Attacking Midfield  23       Germany   \n",
              "27     28         Mykhaylo Mudryk         Left Winger  22       Ukraine   \n",
              "28     29         Raheem Sterling         Left Winger  28       England   \n",
              "29     30         Cristian Romero         Centre-Back  24     Argentina   \n",
              "30     31           Heung-min Son         Left Winger  30  Korea, South   \n",
              "31     32          William Saliba         Centre-Back  22        France   \n",
              "32     33              Diogo Jota         Left Winger  26      Portugal   \n",
              "33     34            Jadon Sancho         Left Winger  23       England   \n",
              "34     35        Dejan Kulusevski        Right Winger  23        Sweden   \n",
              "35     36          James Maddison  Attacking Midfield  26       England   \n",
              "36     37             Richarlison      Centre-Forward  25        Brazil   \n",
              "37     38          Moisés Caicedo  Defensive Midfield  21       Ecuador   \n",
              "38     39          Julián Álvarez      Centre-Forward  23     Argentina   \n",
              "39     40       Gabriel Magalhães         Centre-Back  25        Brazil   \n",
              "40     41                Casemiro  Defensive Midfield  31        Brazil   \n",
              "41     42              Ivan Toney      Centre-Forward  27       England   \n",
              "42     43          Alexander Isak      Centre-Forward  23        Sweden   \n",
              "43     44              João Félix      Second Striker  23      Portugal   \n",
              "44     45               Ben White          Right-Back  25       England   \n",
              "45     46       Lisandro Martínez         Centre-Back  25     Argentina   \n",
              "46     47        Andrew Robertson           Left-Back  29      Scotland   \n",
              "47     48                 Fabinho  Defensive Midfield  29        Brazil   \n",
              "48     49   Pierre-Emile Höjbjerg    Central Midfield  27       Denmark   \n",
              "49     50                 Alisson          Goalkeeper  30        Brazil   \n",
              "\n",
              "                      team     value  \n",
              "0          Manchester City  €170.00m  \n",
              "1          Manchester City  €110.00m  \n",
              "2               Arsenal FC  €110.00m  \n",
              "3        Tottenham Hotspur  €150.00m  \n",
              "4               Chelsea FC   €85.00m  \n",
              "5          West Ham United   €80.00m  \n",
              "6          Manchester City   €80.00m  \n",
              "7               Arsenal FC   €80.00m  \n",
              "8          Manchester City  €150.00m  \n",
              "9          Manchester City  €100.00m  \n",
              "10       Manchester United   €85.00m  \n",
              "11              Arsenal FC   €80.00m  \n",
              "12            Liverpool FC   €75.00m  \n",
              "13       Manchester United   €90.00m  \n",
              "14         Manchester City   €75.00m  \n",
              "15            Liverpool FC  €150.00m  \n",
              "16         Manchester City  €100.00m  \n",
              "17       Manchester United   €75.00m  \n",
              "18            Liverpool FC   €70.00m  \n",
              "19              Arsenal FC   €70.00m  \n",
              "20              Chelsea FC   €70.00m  \n",
              "21              Chelsea FC   €65.00m  \n",
              "22              Chelsea FC   €75.00m  \n",
              "23            Liverpool FC  €110.00m  \n",
              "24            Liverpool FC   €60.00m  \n",
              "25        Newcastle United   €60.00m  \n",
              "26              Chelsea FC   €90.00m  \n",
              "27              Chelsea FC   €60.00m  \n",
              "28              Chelsea FC  €160.00m  \n",
              "29       Tottenham Hotspur   €60.00m  \n",
              "30       Tottenham Hotspur   €90.00m  \n",
              "31              Arsenal FC   €55.00m  \n",
              "32            Liverpool FC   €60.00m  \n",
              "33       Manchester United  €130.00m  \n",
              "34       Tottenham Hotspur   €55.00m  \n",
              "35          Leicester City   €60.00m  \n",
              "36       Tottenham Hotspur   €65.00m  \n",
              "37  Brighton & Hove Albion   €55.00m  \n",
              "38         Manchester City   €50.00m  \n",
              "39              Arsenal FC   €50.00m  \n",
              "40       Manchester United   €80.00m  \n",
              "41            Brentford FC   €50.00m  \n",
              "42        Newcastle United   €50.00m  \n",
              "43              Chelsea FC  €100.00m  \n",
              "44              Arsenal FC   €50.00m  \n",
              "45       Manchester United   €50.00m  \n",
              "46            Liverpool FC   €80.00m  \n",
              "47            Liverpool FC   €70.00m  \n",
              "48       Tottenham Hotspur   €45.00m  \n",
              "49            Liverpool FC   €90.00m  "
            ],
            "text/html": [
              "\n",
              "  <div id=\"df-77781ea3-b274-404f-91ca-76d9f0687af6\">\n",
              "    <div class=\"colab-df-container\">\n",
              "      <div>\n",
              "<style scoped>\n",
              "    .dataframe tbody tr th:only-of-type {\n",
              "        vertical-align: middle;\n",
              "    }\n",
              "\n",
              "    .dataframe tbody tr th {\n",
              "        vertical-align: top;\n",
              "    }\n",
              "\n",
              "    .dataframe thead th {\n",
              "        text-align: right;\n",
              "    }\n",
              "</style>\n",
              "<table border=\"1\" class=\"dataframe\">\n",
              "  <thead>\n",
              "    <tr style=\"text-align: right;\">\n",
              "      <th></th>\n",
              "      <th>number</th>\n",
              "      <th>name</th>\n",
              "      <th>position</th>\n",
              "      <th>age</th>\n",
              "      <th>nation</th>\n",
              "      <th>team</th>\n",
              "      <th>value</th>\n",
              "    </tr>\n",
              "  </thead>\n",
              "  <tbody>\n",
              "    <tr>\n",
              "      <th>0</th>\n",
              "      <td>1</td>\n",
              "      <td>Erling Haaland</td>\n",
              "      <td>Centre-Forward</td>\n",
              "      <td>22</td>\n",
              "      <td>Norway</td>\n",
              "      <td>Manchester City</td>\n",
              "      <td>€170.00m</td>\n",
              "    </tr>\n",
              "    <tr>\n",
              "      <th>1</th>\n",
              "      <td>2</td>\n",
              "      <td>Phil Foden</td>\n",
              "      <td>Left Winger</td>\n",
              "      <td>22</td>\n",
              "      <td>England</td>\n",
              "      <td>Manchester City</td>\n",
              "      <td>€110.00m</td>\n",
              "    </tr>\n",
              "    <tr>\n",
              "      <th>2</th>\n",
              "      <td>3</td>\n",
              "      <td>Bukayo Saka</td>\n",
              "      <td>Right Winger</td>\n",
              "      <td>21</td>\n",
              "      <td>England</td>\n",
              "      <td>Arsenal FC</td>\n",
              "      <td>€110.00m</td>\n",
              "    </tr>\n",
              "    <tr>\n",
              "      <th>3</th>\n",
              "      <td>4</td>\n",
              "      <td>Harry Kane</td>\n",
              "      <td>Centre-Forward</td>\n",
              "      <td>29</td>\n",
              "      <td>England</td>\n",
              "      <td>Tottenham Hotspur</td>\n",
              "      <td>€150.00m</td>\n",
              "    </tr>\n",
              "    <tr>\n",
              "      <th>4</th>\n",
              "      <td>5</td>\n",
              "      <td>Enzo Fernández</td>\n",
              "      <td>Defensive Midfield</td>\n",
              "      <td>22</td>\n",
              "      <td>Argentina</td>\n",
              "      <td>Chelsea FC</td>\n",
              "      <td>€85.00m</td>\n",
              "    </tr>\n",
              "    <tr>\n",
              "      <th>5</th>\n",
              "      <td>6</td>\n",
              "      <td>Declan Rice</td>\n",
              "      <td>Defensive Midfield</td>\n",
              "      <td>24</td>\n",
              "      <td>England</td>\n",
              "      <td>West Ham United</td>\n",
              "      <td>€80.00m</td>\n",
              "    </tr>\n",
              "    <tr>\n",
              "      <th>6</th>\n",
              "      <td>7</td>\n",
              "      <td>Rodri</td>\n",
              "      <td>Defensive Midfield</td>\n",
              "      <td>26</td>\n",
              "      <td>Spain</td>\n",
              "      <td>Manchester City</td>\n",
              "      <td>€80.00m</td>\n",
              "    </tr>\n",
              "    <tr>\n",
              "      <th>7</th>\n",
              "      <td>8</td>\n",
              "      <td>Martin Ødegaard</td>\n",
              "      <td>Attacking Midfield</td>\n",
              "      <td>24</td>\n",
              "      <td>Norway</td>\n",
              "      <td>Arsenal FC</td>\n",
              "      <td>€80.00m</td>\n",
              "    </tr>\n",
              "    <tr>\n",
              "      <th>8</th>\n",
              "      <td>9</td>\n",
              "      <td>Kevin De Bruyne</td>\n",
              "      <td>Attacking Midfield</td>\n",
              "      <td>31</td>\n",
              "      <td>Belgium</td>\n",
              "      <td>Manchester City</td>\n",
              "      <td>€150.00m</td>\n",
              "    </tr>\n",
              "    <tr>\n",
              "      <th>9</th>\n",
              "      <td>10</td>\n",
              "      <td>Bernardo Silva</td>\n",
              "      <td>Attacking Midfield</td>\n",
              "      <td>28</td>\n",
              "      <td>Portugal</td>\n",
              "      <td>Manchester City</td>\n",
              "      <td>€100.00m</td>\n",
              "    </tr>\n",
              "    <tr>\n",
              "      <th>10</th>\n",
              "      <td>11</td>\n",
              "      <td>Marcus Rashford</td>\n",
              "      <td>Left Winger</td>\n",
              "      <td>25</td>\n",
              "      <td>England</td>\n",
              "      <td>Manchester United</td>\n",
              "      <td>€85.00m</td>\n",
              "    </tr>\n",
              "    <tr>\n",
              "      <th>11</th>\n",
              "      <td>12</td>\n",
              "      <td>Gabriel Jesus</td>\n",
              "      <td>Centre-Forward</td>\n",
              "      <td>26</td>\n",
              "      <td>Brazil</td>\n",
              "      <td>Arsenal FC</td>\n",
              "      <td>€80.00m</td>\n",
              "    </tr>\n",
              "    <tr>\n",
              "      <th>12</th>\n",
              "      <td>13</td>\n",
              "      <td>Luis Díaz</td>\n",
              "      <td>Left Winger</td>\n",
              "      <td>26</td>\n",
              "      <td>Colombia</td>\n",
              "      <td>Liverpool FC</td>\n",
              "      <td>€75.00m</td>\n",
              "    </tr>\n",
              "    <tr>\n",
              "      <th>13</th>\n",
              "      <td>14</td>\n",
              "      <td>Bruno Fernandes</td>\n",
              "      <td>Attacking Midfield</td>\n",
              "      <td>28</td>\n",
              "      <td>Portugal</td>\n",
              "      <td>Manchester United</td>\n",
              "      <td>€90.00m</td>\n",
              "    </tr>\n",
              "    <tr>\n",
              "      <th>14</th>\n",
              "      <td>15</td>\n",
              "      <td>Rúben Dias</td>\n",
              "      <td>Centre-Back</td>\n",
              "      <td>25</td>\n",
              "      <td>Portugal</td>\n",
              "      <td>Manchester City</td>\n",
              "      <td>€75.00m</td>\n",
              "    </tr>\n",
              "    <tr>\n",
              "      <th>15</th>\n",
              "      <td>16</td>\n",
              "      <td>Mohamed Salah</td>\n",
              "      <td>Right Winger</td>\n",
              "      <td>30</td>\n",
              "      <td>Egypt</td>\n",
              "      <td>Liverpool FC</td>\n",
              "      <td>€150.00m</td>\n",
              "    </tr>\n",
              "    <tr>\n",
              "      <th>16</th>\n",
              "      <td>17</td>\n",
              "      <td>Jack Grealish</td>\n",
              "      <td>Left Winger</td>\n",
              "      <td>27</td>\n",
              "      <td>England</td>\n",
              "      <td>Manchester City</td>\n",
              "      <td>€100.00m</td>\n",
              "    </tr>\n",
              "    <tr>\n",
              "      <th>17</th>\n",
              "      <td>18</td>\n",
              "      <td>Antony</td>\n",
              "      <td>Right Winger</td>\n",
              "      <td>23</td>\n",
              "      <td>Brazil</td>\n",
              "      <td>Manchester United</td>\n",
              "      <td>€75.00m</td>\n",
              "    </tr>\n",
              "    <tr>\n",
              "      <th>18</th>\n",
              "      <td>19</td>\n",
              "      <td>Darwin Núñez</td>\n",
              "      <td>Centre-Forward</td>\n",
              "      <td>23</td>\n",
              "      <td>Uruguay</td>\n",
              "      <td>Liverpool FC</td>\n",
              "      <td>€70.00m</td>\n",
              "    </tr>\n",
              "    <tr>\n",
              "      <th>19</th>\n",
              "      <td>20</td>\n",
              "      <td>Gabriel Martinelli</td>\n",
              "      <td>Left Winger</td>\n",
              "      <td>21</td>\n",
              "      <td>Brazil</td>\n",
              "      <td>Arsenal FC</td>\n",
              "      <td>€70.00m</td>\n",
              "    </tr>\n",
              "    <tr>\n",
              "      <th>20</th>\n",
              "      <td>21</td>\n",
              "      <td>Reece James</td>\n",
              "      <td>Right-Back</td>\n",
              "      <td>23</td>\n",
              "      <td>England</td>\n",
              "      <td>Chelsea FC</td>\n",
              "      <td>€70.00m</td>\n",
              "    </tr>\n",
              "    <tr>\n",
              "      <th>21</th>\n",
              "      <td>22</td>\n",
              "      <td>Wesley Fofana</td>\n",
              "      <td>Centre-Back</td>\n",
              "      <td>22</td>\n",
              "      <td>France</td>\n",
              "      <td>Chelsea FC</td>\n",
              "      <td>€65.00m</td>\n",
              "    </tr>\n",
              "    <tr>\n",
              "      <th>22</th>\n",
              "      <td>23</td>\n",
              "      <td>Mason Mount</td>\n",
              "      <td>Attacking Midfield</td>\n",
              "      <td>24</td>\n",
              "      <td>England</td>\n",
              "      <td>Chelsea FC</td>\n",
              "      <td>€75.00m</td>\n",
              "    </tr>\n",
              "    <tr>\n",
              "      <th>23</th>\n",
              "      <td>24</td>\n",
              "      <td>Trent Alexander-Arnold</td>\n",
              "      <td>Right-Back</td>\n",
              "      <td>24</td>\n",
              "      <td>England</td>\n",
              "      <td>Liverpool FC</td>\n",
              "      <td>€110.00m</td>\n",
              "    </tr>\n",
              "    <tr>\n",
              "      <th>24</th>\n",
              "      <td>25</td>\n",
              "      <td>Cody Gakpo</td>\n",
              "      <td>Left Winger</td>\n",
              "      <td>23</td>\n",
              "      <td>Netherlands</td>\n",
              "      <td>Liverpool FC</td>\n",
              "      <td>€60.00m</td>\n",
              "    </tr>\n",
              "    <tr>\n",
              "      <th>25</th>\n",
              "      <td>26</td>\n",
              "      <td>Bruno Guimarães</td>\n",
              "      <td>Defensive Midfield</td>\n",
              "      <td>25</td>\n",
              "      <td>Brazil</td>\n",
              "      <td>Newcastle United</td>\n",
              "      <td>€60.00m</td>\n",
              "    </tr>\n",
              "    <tr>\n",
              "      <th>26</th>\n",
              "      <td>27</td>\n",
              "      <td>Kai Havertz</td>\n",
              "      <td>Attacking Midfield</td>\n",
              "      <td>23</td>\n",
              "      <td>Germany</td>\n",
              "      <td>Chelsea FC</td>\n",
              "      <td>€90.00m</td>\n",
              "    </tr>\n",
              "    <tr>\n",
              "      <th>27</th>\n",
              "      <td>28</td>\n",
              "      <td>Mykhaylo Mudryk</td>\n",
              "      <td>Left Winger</td>\n",
              "      <td>22</td>\n",
              "      <td>Ukraine</td>\n",
              "      <td>Chelsea FC</td>\n",
              "      <td>€60.00m</td>\n",
              "    </tr>\n",
              "    <tr>\n",
              "      <th>28</th>\n",
              "      <td>29</td>\n",
              "      <td>Raheem Sterling</td>\n",
              "      <td>Left Winger</td>\n",
              "      <td>28</td>\n",
              "      <td>England</td>\n",
              "      <td>Chelsea FC</td>\n",
              "      <td>€160.00m</td>\n",
              "    </tr>\n",
              "    <tr>\n",
              "      <th>29</th>\n",
              "      <td>30</td>\n",
              "      <td>Cristian Romero</td>\n",
              "      <td>Centre-Back</td>\n",
              "      <td>24</td>\n",
              "      <td>Argentina</td>\n",
              "      <td>Tottenham Hotspur</td>\n",
              "      <td>€60.00m</td>\n",
              "    </tr>\n",
              "    <tr>\n",
              "      <th>30</th>\n",
              "      <td>31</td>\n",
              "      <td>Heung-min Son</td>\n",
              "      <td>Left Winger</td>\n",
              "      <td>30</td>\n",
              "      <td>Korea, South</td>\n",
              "      <td>Tottenham Hotspur</td>\n",
              "      <td>€90.00m</td>\n",
              "    </tr>\n",
              "    <tr>\n",
              "      <th>31</th>\n",
              "      <td>32</td>\n",
              "      <td>William Saliba</td>\n",
              "      <td>Centre-Back</td>\n",
              "      <td>22</td>\n",
              "      <td>France</td>\n",
              "      <td>Arsenal FC</td>\n",
              "      <td>€55.00m</td>\n",
              "    </tr>\n",
              "    <tr>\n",
              "      <th>32</th>\n",
              "      <td>33</td>\n",
              "      <td>Diogo Jota</td>\n",
              "      <td>Left Winger</td>\n",
              "      <td>26</td>\n",
              "      <td>Portugal</td>\n",
              "      <td>Liverpool FC</td>\n",
              "      <td>€60.00m</td>\n",
              "    </tr>\n",
              "    <tr>\n",
              "      <th>33</th>\n",
              "      <td>34</td>\n",
              "      <td>Jadon Sancho</td>\n",
              "      <td>Left Winger</td>\n",
              "      <td>23</td>\n",
              "      <td>England</td>\n",
              "      <td>Manchester United</td>\n",
              "      <td>€130.00m</td>\n",
              "    </tr>\n",
              "    <tr>\n",
              "      <th>34</th>\n",
              "      <td>35</td>\n",
              "      <td>Dejan Kulusevski</td>\n",
              "      <td>Right Winger</td>\n",
              "      <td>23</td>\n",
              "      <td>Sweden</td>\n",
              "      <td>Tottenham Hotspur</td>\n",
              "      <td>€55.00m</td>\n",
              "    </tr>\n",
              "    <tr>\n",
              "      <th>35</th>\n",
              "      <td>36</td>\n",
              "      <td>James Maddison</td>\n",
              "      <td>Attacking Midfield</td>\n",
              "      <td>26</td>\n",
              "      <td>England</td>\n",
              "      <td>Leicester City</td>\n",
              "      <td>€60.00m</td>\n",
              "    </tr>\n",
              "    <tr>\n",
              "      <th>36</th>\n",
              "      <td>37</td>\n",
              "      <td>Richarlison</td>\n",
              "      <td>Centre-Forward</td>\n",
              "      <td>25</td>\n",
              "      <td>Brazil</td>\n",
              "      <td>Tottenham Hotspur</td>\n",
              "      <td>€65.00m</td>\n",
              "    </tr>\n",
              "    <tr>\n",
              "      <th>37</th>\n",
              "      <td>38</td>\n",
              "      <td>Moisés Caicedo</td>\n",
              "      <td>Defensive Midfield</td>\n",
              "      <td>21</td>\n",
              "      <td>Ecuador</td>\n",
              "      <td>Brighton &amp; Hove Albion</td>\n",
              "      <td>€55.00m</td>\n",
              "    </tr>\n",
              "    <tr>\n",
              "      <th>38</th>\n",
              "      <td>39</td>\n",
              "      <td>Julián Álvarez</td>\n",
              "      <td>Centre-Forward</td>\n",
              "      <td>23</td>\n",
              "      <td>Argentina</td>\n",
              "      <td>Manchester City</td>\n",
              "      <td>€50.00m</td>\n",
              "    </tr>\n",
              "    <tr>\n",
              "      <th>39</th>\n",
              "      <td>40</td>\n",
              "      <td>Gabriel Magalhães</td>\n",
              "      <td>Centre-Back</td>\n",
              "      <td>25</td>\n",
              "      <td>Brazil</td>\n",
              "      <td>Arsenal FC</td>\n",
              "      <td>€50.00m</td>\n",
              "    </tr>\n",
              "    <tr>\n",
              "      <th>40</th>\n",
              "      <td>41</td>\n",
              "      <td>Casemiro</td>\n",
              "      <td>Defensive Midfield</td>\n",
              "      <td>31</td>\n",
              "      <td>Brazil</td>\n",
              "      <td>Manchester United</td>\n",
              "      <td>€80.00m</td>\n",
              "    </tr>\n",
              "    <tr>\n",
              "      <th>41</th>\n",
              "      <td>42</td>\n",
              "      <td>Ivan Toney</td>\n",
              "      <td>Centre-Forward</td>\n",
              "      <td>27</td>\n",
              "      <td>England</td>\n",
              "      <td>Brentford FC</td>\n",
              "      <td>€50.00m</td>\n",
              "    </tr>\n",
              "    <tr>\n",
              "      <th>42</th>\n",
              "      <td>43</td>\n",
              "      <td>Alexander Isak</td>\n",
              "      <td>Centre-Forward</td>\n",
              "      <td>23</td>\n",
              "      <td>Sweden</td>\n",
              "      <td>Newcastle United</td>\n",
              "      <td>€50.00m</td>\n",
              "    </tr>\n",
              "    <tr>\n",
              "      <th>43</th>\n",
              "      <td>44</td>\n",
              "      <td>João Félix</td>\n",
              "      <td>Second Striker</td>\n",
              "      <td>23</td>\n",
              "      <td>Portugal</td>\n",
              "      <td>Chelsea FC</td>\n",
              "      <td>€100.00m</td>\n",
              "    </tr>\n",
              "    <tr>\n",
              "      <th>44</th>\n",
              "      <td>45</td>\n",
              "      <td>Ben White</td>\n",
              "      <td>Right-Back</td>\n",
              "      <td>25</td>\n",
              "      <td>England</td>\n",
              "      <td>Arsenal FC</td>\n",
              "      <td>€50.00m</td>\n",
              "    </tr>\n",
              "    <tr>\n",
              "      <th>45</th>\n",
              "      <td>46</td>\n",
              "      <td>Lisandro Martínez</td>\n",
              "      <td>Centre-Back</td>\n",
              "      <td>25</td>\n",
              "      <td>Argentina</td>\n",
              "      <td>Manchester United</td>\n",
              "      <td>€50.00m</td>\n",
              "    </tr>\n",
              "    <tr>\n",
              "      <th>46</th>\n",
              "      <td>47</td>\n",
              "      <td>Andrew Robertson</td>\n",
              "      <td>Left-Back</td>\n",
              "      <td>29</td>\n",
              "      <td>Scotland</td>\n",
              "      <td>Liverpool FC</td>\n",
              "      <td>€80.00m</td>\n",
              "    </tr>\n",
              "    <tr>\n",
              "      <th>47</th>\n",
              "      <td>48</td>\n",
              "      <td>Fabinho</td>\n",
              "      <td>Defensive Midfield</td>\n",
              "      <td>29</td>\n",
              "      <td>Brazil</td>\n",
              "      <td>Liverpool FC</td>\n",
              "      <td>€70.00m</td>\n",
              "    </tr>\n",
              "    <tr>\n",
              "      <th>48</th>\n",
              "      <td>49</td>\n",
              "      <td>Pierre-Emile Höjbjerg</td>\n",
              "      <td>Central Midfield</td>\n",
              "      <td>27</td>\n",
              "      <td>Denmark</td>\n",
              "      <td>Tottenham Hotspur</td>\n",
              "      <td>€45.00m</td>\n",
              "    </tr>\n",
              "    <tr>\n",
              "      <th>49</th>\n",
              "      <td>50</td>\n",
              "      <td>Alisson</td>\n",
              "      <td>Goalkeeper</td>\n",
              "      <td>30</td>\n",
              "      <td>Brazil</td>\n",
              "      <td>Liverpool FC</td>\n",
              "      <td>€90.00m</td>\n",
              "    </tr>\n",
              "  </tbody>\n",
              "</table>\n",
              "</div>\n",
              "      <button class=\"colab-df-convert\" onclick=\"convertToInteractive('df-77781ea3-b274-404f-91ca-76d9f0687af6')\"\n",
              "              title=\"Convert this dataframe to an interactive table.\"\n",
              "              style=\"display:none;\">\n",
              "        \n",
              "  <svg xmlns=\"http://www.w3.org/2000/svg\" height=\"24px\"viewBox=\"0 0 24 24\"\n",
              "       width=\"24px\">\n",
              "    <path d=\"M0 0h24v24H0V0z\" fill=\"none\"/>\n",
              "    <path d=\"M18.56 5.44l.94 2.06.94-2.06 2.06-.94-2.06-.94-.94-2.06-.94 2.06-2.06.94zm-11 1L8.5 8.5l.94-2.06 2.06-.94-2.06-.94L8.5 2.5l-.94 2.06-2.06.94zm10 10l.94 2.06.94-2.06 2.06-.94-2.06-.94-.94-2.06-.94 2.06-2.06.94z\"/><path d=\"M17.41 7.96l-1.37-1.37c-.4-.4-.92-.59-1.43-.59-.52 0-1.04.2-1.43.59L10.3 9.45l-7.72 7.72c-.78.78-.78 2.05 0 2.83L4 21.41c.39.39.9.59 1.41.59.51 0 1.02-.2 1.41-.59l7.78-7.78 2.81-2.81c.8-.78.8-2.07 0-2.86zM5.41 20L4 18.59l7.72-7.72 1.47 1.35L5.41 20z\"/>\n",
              "  </svg>\n",
              "      </button>\n",
              "      \n",
              "  <style>\n",
              "    .colab-df-container {\n",
              "      display:flex;\n",
              "      flex-wrap:wrap;\n",
              "      gap: 12px;\n",
              "    }\n",
              "\n",
              "    .colab-df-convert {\n",
              "      background-color: #E8F0FE;\n",
              "      border: none;\n",
              "      border-radius: 50%;\n",
              "      cursor: pointer;\n",
              "      display: none;\n",
              "      fill: #1967D2;\n",
              "      height: 32px;\n",
              "      padding: 0 0 0 0;\n",
              "      width: 32px;\n",
              "    }\n",
              "\n",
              "    .colab-df-convert:hover {\n",
              "      background-color: #E2EBFA;\n",
              "      box-shadow: 0px 1px 2px rgba(60, 64, 67, 0.3), 0px 1px 3px 1px rgba(60, 64, 67, 0.15);\n",
              "      fill: #174EA6;\n",
              "    }\n",
              "\n",
              "    [theme=dark] .colab-df-convert {\n",
              "      background-color: #3B4455;\n",
              "      fill: #D2E3FC;\n",
              "    }\n",
              "\n",
              "    [theme=dark] .colab-df-convert:hover {\n",
              "      background-color: #434B5C;\n",
              "      box-shadow: 0px 1px 3px 1px rgba(0, 0, 0, 0.15);\n",
              "      filter: drop-shadow(0px 1px 2px rgba(0, 0, 0, 0.3));\n",
              "      fill: #FFFFFF;\n",
              "    }\n",
              "  </style>\n",
              "\n",
              "      <script>\n",
              "        const buttonEl =\n",
              "          document.querySelector('#df-77781ea3-b274-404f-91ca-76d9f0687af6 button.colab-df-convert');\n",
              "        buttonEl.style.display =\n",
              "          google.colab.kernel.accessAllowed ? 'block' : 'none';\n",
              "\n",
              "        async function convertToInteractive(key) {\n",
              "          const element = document.querySelector('#df-77781ea3-b274-404f-91ca-76d9f0687af6');\n",
              "          const dataTable =\n",
              "            await google.colab.kernel.invokeFunction('convertToInteractive',\n",
              "                                                     [key], {});\n",
              "          if (!dataTable) return;\n",
              "\n",
              "          const docLinkHtml = 'Like what you see? Visit the ' +\n",
              "            '<a target=\"_blank\" href=https://colab.research.google.com/notebooks/data_table.ipynb>data table notebook</a>'\n",
              "            + ' to learn more about interactive tables.';\n",
              "          element.innerHTML = '';\n",
              "          dataTable['output_type'] = 'display_data';\n",
              "          await google.colab.output.renderOutput(dataTable, element);\n",
              "          const docLink = document.createElement('div');\n",
              "          docLink.innerHTML = docLinkHtml;\n",
              "          element.appendChild(docLink);\n",
              "        }\n",
              "      </script>\n",
              "    </div>\n",
              "  </div>\n",
              "  "
            ]
          },
          "metadata": {},
          "execution_count": 264
        }
      ]
    },
    {
      "cell_type": "code",
      "source": [
        "# df.to_csv()로 csv파일로 저장하기\n",
        "df.to_csv('PL50.csv', index=False)"
      ],
      "metadata": {
        "id": "exOOvyswhpr2"
      },
      "execution_count": 266,
      "outputs": []
    }
  ]
}